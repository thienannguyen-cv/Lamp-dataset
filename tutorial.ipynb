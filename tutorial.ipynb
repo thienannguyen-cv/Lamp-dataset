{
 "cells": [
  {
   "cell_type": "markdown",
   "metadata": {},
   "source": [
    "# Data & Env Initialization"
   ]
  },
  {
   "cell_type": "code",
   "execution_count": null,
   "metadata": {},
   "outputs": [],
   "source": [
    "import zipfile\n",
    "from os import path\n",
    "import numpy as np # linear algebra\n",
    "from tqdm import tqdm\n",
    "import matplotlib.pyplot as plt\n",
    "\n",
    "zip_file = \"Lamp303.zip\"\n",
    "data_path = \"Lamp303/\"\n",
    "\n",
    "input_indice_path = data_path + \"input_indices_{}.npy\"\n",
    "input_data_path = data_path + \"input_data_{}.npy\"\n",
    "target_path = data_path + \"output_indices_{}.npy\"\n",
    "if not path.exists(data_path):\n",
    "    with zipfile.ZipFile(zip_file, 'r') as zip_ref:\n",
    "        zip_ref.extractall(\".\")"
   ]
  },
  {
   "cell_type": "markdown",
   "metadata": {},
   "source": [
    "# Constants"
   ]
  },
  {
   "cell_type": "code",
   "execution_count": null,
   "metadata": {},
   "outputs": [],
   "source": [
    "THETA = [2.5, -1.25, 0.] # the theta of the problem describle in the paper\n",
    "N_CONFIGURATIONS = 4262 # number of configuration of the problem\n",
    "H, W = 128, 256 # the window size\n",
    "\n",
    "CAMERA = np.array([[2304.5479, 0,  1686.2379], # the camera matrix\n",
    "                          [0, 2305.8757, 1354.9849],\n",
    "                          [0, 0, 1]], dtype=np.float32)"
   ]
  },
  {
   "cell_type": "markdown",
   "metadata": {},
   "source": [
    "# Data Viz & Utils"
   ]
  },
  {
   "cell_type": "code",
   "execution_count": null,
   "metadata": {},
   "outputs": [],
   "source": [
    "import torch\n",
    "from torch.utils.data import Dataset, DataLoader"
   ]
  },
  {
   "cell_type": "code",
   "execution_count": null,
   "metadata": {},
   "outputs": [],
   "source": [
    "class Lamp303Dataset(Dataset):\n",
    "    \"\"\"Car dataset.\"\"\"\n",
    "\n",
    "    def __init__(self):\n",
    "        super(Lamp303Dataset,self).__init__()\n",
    "\n",
    "    def __len__(self):\n",
    "        return N_CONFIGURATIONS\n",
    "\n",
    "    def __getitem__(self, idx):\n",
    "        if torch.is_tensor(idx):\n",
    "            idx = idx.tolist()\n",
    "            \n",
    "        # PART 2\n",
    "        indice_np = np.load(input_indice_path.format(idx))\n",
    "        input_np = np.load(input_data_path.format(idx))\n",
    "        target_np = np.load(target_path.format(idx))\n",
    "        \n",
    "        input_2Drepr = np.zeros([H, W, 3], dtype='float16')\n",
    "        input_2Drepr[indice_np[:,0],indice_np[:,1],:] = input_np\n",
    "        \n",
    "        target_2Drepr = np.zeros([H, W, 1], dtype='float16')\n",
    "        target_2Drepr[target_np[:,0],target_np[:,1],:] = 1.\n",
    "        \n",
    "        input_2Drepr = np.rollaxis(input_2Drepr, 2, 0)\n",
    "        input_2Drepr = torch.from_numpy(input_2Drepr).float()\n",
    "        \n",
    "        target_2Drepr = np.rollaxis(target_2Drepr, 2, 0)\n",
    "        target_2Drepr = torch.from_numpy(target_2Drepr).float()\n",
    "        \n",
    "        return [input_2Drepr, target_2Drepr]"
   ]
  },
  {
   "cell_type": "code",
   "execution_count": null,
   "metadata": {},
   "outputs": [],
   "source": [
    "dataset = Lamp303Dataset()\n",
    "input_2Drepr, target_2Drepr = dataset[0]\n",
    "\n",
    "plt.figure(figsize=(8,8))\n",
    "plt.imshow(input_2Drepr.permute(1,2,0).numpy()[:,:,-1]/350.)\n",
    "plt.show()\n",
    "\n",
    "plt.figure(figsize=(8,8))\n",
    "plt.imshow((target_2Drepr.permute(1,2,0).numpy()[:,:,-1]).squeeze())\n",
    "plt.show()"
   ]
  },
  {
   "cell_type": "code",
   "execution_count": null,
   "metadata": {},
   "outputs": [],
   "source": []
  }
 ],
 "metadata": {
  "kernelspec": {
   "display_name": "Python 3",
   "language": "python",
   "name": "python3"
  },
  "language_info": {
   "codemirror_mode": {
    "name": "ipython",
    "version": 3
   },
   "file_extension": ".py",
   "mimetype": "text/x-python",
   "name": "python",
   "nbconvert_exporter": "python",
   "pygments_lexer": "ipython3",
   "version": "3.6.7"
  }
 },
 "nbformat": 4,
 "nbformat_minor": 4
}
